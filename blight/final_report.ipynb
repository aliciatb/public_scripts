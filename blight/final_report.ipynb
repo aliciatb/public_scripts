{
 "cells": [
  {
   "cell_type": "markdown",
   "metadata": {},
   "source": [
    "# A model for blight prediction\n",
    "The purpose of this project was to determine if any data features of a city can be used to predict blight for a given location."
   ]
  },
  {
   "cell_type": "markdown",
   "metadata": {},
   "source": [
    "## The data\n",
    "The data provided for this project include 311 Service Calls, Crime Incidents, Blight Violations and Permits for Demolition. The first 3 datasets provide the foundation for a Buildings dataset that consists of unique locations as well as the source of derived features used in the model creation like *Number of Crimes*, *Number of Blight Violations*, and *Number of Service Calls*. These datasets were downloaded from the [course site](https://www.coursera.org/learn/datasci-capstone/supplement/D44tm/get-the-data), but are also available via [capstone project repo](https://github.com/uwescience/datasci_course_materials/tree/master/capstone/blight/data) on github. All of the data comes from [Socrata](https://www.socrata.com/) powered Detroit Data Portal, https://data.detroitmi.gov/.\n",
    "### Files\n",
    "* [Blight Violations](https://d18ky98rnyall9.cloudfront.net/_97bd1c1e5df9537bb13398c9898deed7_detroit-blight-violations.csv?Expires=1462320000&Signature=KjJzlAwVQBOONT-2ZJN7ixzhYeD~Cb1T5t4G5pIn1Alf3F7c0MTwnnYfstgr-hxGH12A9T4mayhz7uPl2zPYVk5VOIfHrkmTNiwudNJbZ0gtMjFXr~q7EFQSfi3nafc~W0sDZKezGVCVZCrPqN2RUddWIJfuli0erB1kvRNC75k_&Key-Pair-Id=APKAJLTNE6QMUY6HBC5A)\n",
    "* [311 Service Calls](https://d18ky98rnyall9.cloudfront.net/_dcebfb2135a2bf5a6392493bd61aba22_detroit-311.csv?Expires=1462320000&Signature=lfmBO8JTr0lHrxA-DYDkl~TfwaM6hEyPsqhhtnE1iKfEEoxKmHT62VwnJvnjccUcfrsdMfyz7YpFz-OvtXMVJBC4~d8mDPcLo~15nLr198gUHCpykWk2uV1nOln4kCQuSDvuusQDR9UMDSCAURf-I8lCM7LU3jy3IYOd73uY-HU_&Key-Pair-Id=APKAJLTNE6QMUY6HBC5A)\n",
    "* [Crime Incidents](https://d18ky98rnyall9.cloudfront.net/_dcebfb2135a2bf5a6392493bd61aba22_detroit-crime.csv?Expires=1462320000&Signature=FsI7KVjPOUR8ujpVKtMWouTgUmc0XY8RS2J5EjJa9Z-Yab61WBPBOroVrwoGa4UtAB9uDB2IJTVXzUx4LFz-zBEgGyd4BX4uZlbnnLkv82wW3FzJZcpMzKbpjfq0xtt4AY7DcRx69GzGl84EE4is~C5hoOIVThMcTKaALabpwW4_&Key-Pair-Id=APKAJLTNE6QMUY6HBC5A)\n",
    "* [Demolition Permits](https://d18ky98rnyall9.cloudfront.net/_dcebfb2135a2bf5a6392493bd61aba22_detroit-demolition-permits.tsv?Expires=1462320000&Signature=DeM232D0rs-DrPVf23KpOpGRsVyBLA6Xatck93XuCVxPcGqiO5iDsZz0UT3xzmJq3foSCpFscyldveFaHlhxCHciC89FgLIagwb0oBzowXhpoPRlQrqycIr7PAN10YQ0k5l6xI1UmUfu-yHXaiIIFr5Kevvct-2WrHK-br8Tb7Y_&Key-Pair-Id=APKAJLTNE6QMUY6HBC5A)\n",
    "\n",
    "**Note** - I downloaded this [Detroit Demolition](https://data.detroitmi.gov/Government/Detroit-Demolitions/rv44-e9di) to use rather than one of building permits provided by instructor since it was cleaner data and contained only the essential fields needed to label known blight locations."
   ]
  },
  {
   "cell_type": "markdown",
   "metadata": {},
   "source": [
    "### Data preparation & Tools\n",
    "The greatest challenge in the provided data from Socrata is within the Location column because it concatenates all of the fields used in the geocoding process, and when address fields are included, line breaks are entered into the field and cause havoc until they are removed from the data file.\n",
    "Before analysis of the data could be undertaken, all files were initially formatted using [Excel PowerQuery](https://support.office.com/en-us/article/Introduction-to-Microsoft-Power-Query-for-Excel-6E92E2F4-2079-4E1F-BAD5-89F6269CD605) for removal of aforementioned line breaks and standardization of the street number and addresses. Then the data was loaded into [FME](https://www.safe.com/fme/fme-desktop/) to validate and standardize the geographic coordinates and output formatted incident and unique building files. Exploratory analysis and model creation was performed in [python notebooks](https://ipython.org/notebook.html) and [RStudio]()."
   ]
  },
  {
   "cell_type": "markdown",
   "metadata": {},
   "source": [
    "## Exploratory Analysis\n",
    "### Summary Statistics\n",
    "| Dataset  | Row Count | Date Range | Description |    \n",
    "| - | - | - | -\n",
    "| Blight Violations | 307,804 | 2015 - | |\n",
    "| 311 Service Calls | 17,281 | 2015 - | |\n",
    "| Blight Violations | 119,931 | 2015 - | |\n",
    "| Demolition Permits | 6,316 | 2015 - |  |\n"
   ]
  },
  {
   "cell_type": "code",
   "execution_count": null,
   "metadata": {
    "collapsed": true
   },
   "outputs": [],
   "source": []
  },
  {
   "cell_type": "code",
   "execution_count": null,
   "metadata": {
    "collapsed": true
   },
   "outputs": [],
   "source": []
  }
 ],
 "metadata": {
  "kernelspec": {
   "display_name": "Python 2",
   "language": "python",
   "name": "python2"
  },
  "language_info": {
   "codemirror_mode": {
    "name": "ipython",
    "version": 2
   },
   "file_extension": ".py",
   "mimetype": "text/x-python",
   "name": "python",
   "nbconvert_exporter": "python",
   "pygments_lexer": "ipython2",
   "version": "2.7.11"
  }
 },
 "nbformat": 4,
 "nbformat_minor": 0
}
