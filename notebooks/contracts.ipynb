{
 "cells": [
  {
   "cell_type": "code",
   "execution_count": 6,
   "metadata": {
    "collapsed": false
   },
   "outputs": [],
   "source": [
    "import pandas as pd\n",
    "# Treasury dataset on new backend = http://openbeta-data.usaspending.gov/d/wnef-4t3i\n",
    "# note that there's a 50k limit for api calls, and defaults to 1,000 if limit is not explicitly set\n",
    "query = (\"http://openbeta-data.usaspending.gov/resource/wnef-4t3i.json?\"\n",
    "    \"$select=date_trunc_ymd(signeddate),date_trunc_ymd(effectivedate)\"\n",
    "    \"&$where=fiscal_year='2013'\"\n",
    "    \"&$limit=5000\")\n",
    "raw_data_2013 = pd.read_json(query)\n",
    "query = (\"http://openbeta-data.usaspending.gov/resource/wnef-4t3i.json?\"\n",
    "    \"$select=date_trunc_ymd(signeddate),date_trunc_ymd(effectivedate)\"\n",
    "    \"&$where=fiscal_year='2014'\"\n",
    "    \"&$limit=5000\")\n",
    "raw_data_2014 = pd.read_json(query)"
   ]
  },
  {
   "cell_type": "code",
   "execution_count": 7,
   "metadata": {
    "collapsed": false
   },
   "outputs": [
    {
     "data": {
      "text/html": [
       "<div>\n",
       "<table border=\"1\" class=\"dataframe\">\n",
       "  <thead>\n",
       "    <tr style=\"text-align: right;\">\n",
       "      <th></th>\n",
       "      <th>date_trunc_ymd_effectivedate</th>\n",
       "      <th>date_trunc_ymd_signeddate</th>\n",
       "    </tr>\n",
       "  </thead>\n",
       "  <tbody>\n",
       "    <tr>\n",
       "      <th>0</th>\n",
       "      <td>2009-11-17T00:00:00.000</td>\n",
       "      <td>2014-06-05T00:00:00.000</td>\n",
       "    </tr>\n",
       "    <tr>\n",
       "      <th>1</th>\n",
       "      <td>2014-09-11T00:00:00.000</td>\n",
       "      <td>2014-09-11T00:00:00.000</td>\n",
       "    </tr>\n",
       "    <tr>\n",
       "      <th>2</th>\n",
       "      <td>2014-06-15T00:00:00.000</td>\n",
       "      <td>2014-06-15T00:00:00.000</td>\n",
       "    </tr>\n",
       "    <tr>\n",
       "      <th>3</th>\n",
       "      <td>2014-09-11T00:00:00.000</td>\n",
       "      <td>2014-09-11T00:00:00.000</td>\n",
       "    </tr>\n",
       "    <tr>\n",
       "      <th>4</th>\n",
       "      <td>2014-05-11T00:00:00.000</td>\n",
       "      <td>2014-05-11T00:00:00.000</td>\n",
       "    </tr>\n",
       "  </tbody>\n",
       "</table>\n",
       "</div>"
      ],
      "text/plain": [
       "  date_trunc_ymd_effectivedate date_trunc_ymd_signeddate\n",
       "0      2009-11-17T00:00:00.000   2014-06-05T00:00:00.000\n",
       "1      2014-09-11T00:00:00.000   2014-09-11T00:00:00.000\n",
       "2      2014-06-15T00:00:00.000   2014-06-15T00:00:00.000\n",
       "3      2014-09-11T00:00:00.000   2014-09-11T00:00:00.000\n",
       "4      2014-05-11T00:00:00.000   2014-05-11T00:00:00.000"
      ]
     },
     "execution_count": 7,
     "metadata": {},
     "output_type": "execute_result"
    }
   ],
   "source": [
    "raw_data_2014.head()"
   ]
  },
  {
   "cell_type": "code",
   "execution_count": 8,
   "metadata": {
    "collapsed": false
   },
   "outputs": [
    {
     "data": {
      "text/html": [
       "<div>\n",
       "<table border=\"1\" class=\"dataframe\">\n",
       "  <thead>\n",
       "    <tr style=\"text-align: right;\">\n",
       "      <th></th>\n",
       "      <th>date_trunc_ymd_effectivedate</th>\n",
       "      <th>date_trunc_ymd_signeddate</th>\n",
       "    </tr>\n",
       "  </thead>\n",
       "  <tbody>\n",
       "    <tr>\n",
       "      <th>count</th>\n",
       "      <td>5000</td>\n",
       "      <td>5000</td>\n",
       "    </tr>\n",
       "    <tr>\n",
       "      <th>unique</th>\n",
       "      <td>374</td>\n",
       "      <td>327</td>\n",
       "    </tr>\n",
       "    <tr>\n",
       "      <th>top</th>\n",
       "      <td>2013-09-30T00:00:00.000</td>\n",
       "      <td>2013-09-30T00:00:00.000</td>\n",
       "    </tr>\n",
       "    <tr>\n",
       "      <th>freq</th>\n",
       "      <td>96</td>\n",
       "      <td>67</td>\n",
       "    </tr>\n",
       "  </tbody>\n",
       "</table>\n",
       "</div>"
      ],
      "text/plain": [
       "       date_trunc_ymd_effectivedate date_trunc_ymd_signeddate\n",
       "count                          5000                      5000\n",
       "unique                          374                       327\n",
       "top         2013-09-30T00:00:00.000   2013-09-30T00:00:00.000\n",
       "freq                             96                        67"
      ]
     },
     "execution_count": 8,
     "metadata": {},
     "output_type": "execute_result"
    }
   ],
   "source": [
    "raw_data_2014.describe()"
   ]
  },
  {
   "cell_type": "code",
   "execution_count": null,
   "metadata": {
    "collapsed": true
   },
   "outputs": [],
   "source": []
  }
 ],
 "metadata": {
  "kernelspec": {
   "display_name": "Python 2",
   "language": "python",
   "name": "python2"
  },
  "language_info": {
   "codemirror_mode": {
    "name": "ipython",
    "version": 2
   },
   "file_extension": ".py",
   "mimetype": "text/x-python",
   "name": "python",
   "nbconvert_exporter": "python",
   "pygments_lexer": "ipython2",
   "version": "2.7.10"
  }
 },
 "nbformat": 4,
 "nbformat_minor": 0
}
